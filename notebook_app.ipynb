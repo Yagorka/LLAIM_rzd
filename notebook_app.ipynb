{
 "cells": [
  {
   "cell_type": "code",
   "execution_count": null,
   "metadata": {},
   "outputs": [],
   "source": [
    "from rzd_main.model import RZDModel\n",
    "import gradio as gr\n",
    "import torch\n",
    "\n",
    "import os\n",
    "from huggingface_hub import login\n",
    "from transformers import Wav2Vec2ForCTC, Wav2Vec2Processor\n",
    "\n",
    "\n",
    "def process_audio(FILE):\n",
    "    r = model(FILE)\n",
    "    return r\n",
    "\n",
    "def process_cat_embs(cat_embs):\n",
    "    device = \"cpu\"\n",
    "    cat_embs = torch.tensor(\n",
    "        [float(c) for c in cat_embs.split(',')]).to(device)\n",
    "    return cat_embs\n",
    "\n",
    "\n",
    "def download_rev_models():\n",
    "\n",
    "    model = RZDModel()\n",
    "    return model\n",
    "\n",
    "model = download_rev_models()\n",
    "    \n",
    "\n",
    "def recognition(audio, style=0):\n",
    "    if audio is None:\n",
    "        return \"Input Error! Please enter one audio!\"\n",
    "\n",
    "    ans = process_audio(audio)\n",
    "    if ans is None:\n",
    "        return \"ERROR! No text output! Please try again!\"\n",
    "    \n",
    "    return ans\n",
    "\n",
    "\n",
    "audio_input = gr.Audio(sources=\"upload\",type=\"filepath\", label=\"Загрузите вашу аудиозапись\")\n",
    "\n",
    "output_textbox = gr.Textbox(lines=4, label=\"Распознанная команда\")\n",
    "    \n",
    "text = \"LLAIM\"\n",
    "\n",
    "# description\n",
    "description = (\n",
    "    \" Автоматичесское распознование команд составителя.\" \n",
    "    \"Цифровой прорыв: кейс от РЖД <<Цифровой пульт составителя>>\"\n",
    ")\n",
    "\n",
    "\n",
    "iface = gr.Interface(\n",
    "    fn=recognition,\n",
    "    inputs=[audio_input],\n",
    "    outputs=output_textbox,\n",
    "    title=text,\n",
    "    description=description,\n",
    "    theme='default'\n",
    "    )\n",
    "\n",
    "iface.launch(share=True)"
   ]
  },
  {
   "cell_type": "code",
   "execution_count": null,
   "metadata": {},
   "outputs": [],
   "source": []
  }
 ],
 "metadata": {
  "kernelspec": {
   "display_name": "Python 3.11.9 ('stt')",
   "language": "python",
   "name": "python3"
  },
  "language_info": {
   "codemirror_mode": {
    "name": "ipython",
    "version": 3
   },
   "file_extension": ".py",
   "mimetype": "text/x-python",
   "name": "python",
   "nbconvert_exporter": "python",
   "pygments_lexer": "ipython3",
   "version": "3.11.9"
  },
  "orig_nbformat": 4,
  "vscode": {
   "interpreter": {
    "hash": "9295a5f9b6a51b8fce19d82aba4e4c52d6c61c4eff47599c9d114980109943e6"
   }
  }
 },
 "nbformat": 4,
 "nbformat_minor": 2
}
